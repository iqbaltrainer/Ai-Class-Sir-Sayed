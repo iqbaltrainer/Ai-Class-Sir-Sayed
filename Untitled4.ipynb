{
 "cells": [
  {
   "cell_type": "code",
   "execution_count": 19,
   "metadata": {},
   "outputs": [
    {
     "name": "stdout",
     "output_type": "stream",
     "text": [
      "Ge Bhai Kia \n"
     ]
    }
   ],
   "source": [
    "def sayhi():\n",
    "    print(\"Ge Bhai Kia \")\n",
    "sayhi()    "
   ]
  },
  {
   "cell_type": "code",
   "execution_count": 16,
   "metadata": {},
   "outputs": [],
   "source": [
    "users = ['val', 'bob', 'mia', 'ron', 'ned']"
   ]
  },
  {
   "cell_type": "code",
   "execution_count": 7,
   "metadata": {},
   "outputs": [
    {
     "name": "stdout",
     "output_type": "stream",
     "text": [
      "albert einstein\n"
     ]
    }
   ],
   "source": [
    "first_name = 'albert'\n",
    "last_name = 'einstein'\n",
    "full_name = first_name + ' ' + last_name\n",
    "print(full_name)\n"
   ]
  },
  {
   "cell_type": "code",
   "execution_count": 9,
   "metadata": {},
   "outputs": [],
   "source": [
    "bikes = ['trek', 'redline', 'giant']\n",
    "first_bike = bikes[0]"
   ]
  },
  {
   "cell_type": "code",
   "execution_count": 11,
   "metadata": {},
   "outputs": [
    {
     "name": "stdout",
     "output_type": "stream",
     "text": [
      "['val', 'bob', 'mia']\n",
      "['joe', 'val', 'bob', 'mia']\n"
     ]
    }
   ],
   "source": [
    "users = []\n",
    "users.append('val')\n",
    "users.append('bob')\n",
    "users.append('mia')\n",
    "print(users)\n",
    "users.insert(0, 'joe')\n",
    "print(users)"
   ]
  }
 ],
 "metadata": {
  "kernelspec": {
   "display_name": "Python 3",
   "language": "python",
   "name": "python3"
  },
  "language_info": {
   "codemirror_mode": {
    "name": "ipython",
    "version": 3
   },
   "file_extension": ".py",
   "mimetype": "text/x-python",
   "name": "python",
   "nbconvert_exporter": "python",
   "pygments_lexer": "ipython3",
   "version": "3.6.5"
  }
 },
 "nbformat": 4,
 "nbformat_minor": 2
}
