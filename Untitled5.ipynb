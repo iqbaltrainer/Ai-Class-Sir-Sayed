{
 "cells": [
  {
   "cell_type": "code",
   "execution_count": 7,
   "metadata": {},
   "outputs": [
    {
     "name": "stdout",
     "output_type": "stream",
     "text": [
      "1\n",
      "2\n",
      "3\n",
      "4\n",
      "5\n",
      "6\n"
     ]
    }
   ],
   "source": [
    "number = 16 \n",
    "scound = 0 \n",
    "first_arr = [1,2,3]\n",
    "scound_arr =[1,2]\n",
    "if number > 15 :\n",
    "        print(\"1\")\n",
    "if first_arr:\n",
    "    print(\"2\")\n",
    "if len (scound_arr) == 2:\n",
    "    print(\"3\")\n",
    "if len (first_arr) + len(scound_arr) ==5 :\n",
    "    print(\"4\")\n",
    "if first_arr and first_arr[0]== 1:\n",
    "    print(\"5\")\n",
    "    \n",
    "if not scound:\n",
    "    print(\"6\")\n"
   ]
  },
  {
   "cell_type": "code",
   "execution_count": 3,
   "metadata": {},
   "outputs": [
    {
     "data": {
      "text/plain": [
       "15"
      ]
     },
     "execution_count": 3,
     "metadata": {},
     "output_type": "execute_result"
    }
   ],
   "source": [
    "15\n",
    "\n"
   ]
  },
  {
   "cell_type": "code",
   "execution_count": null,
   "metadata": {},
   "outputs": [],
   "source": []
  }
 ],
 "metadata": {
  "kernelspec": {
   "display_name": "Python 3",
   "language": "python",
   "name": "python3"
  },
  "language_info": {
   "codemirror_mode": {
    "name": "ipython",
    "version": 3
   },
   "file_extension": ".py",
   "mimetype": "text/x-python",
   "name": "python",
   "nbconvert_exporter": "python",
   "pygments_lexer": "ipython3",
   "version": "3.6.5"
  }
 },
 "nbformat": 4,
 "nbformat_minor": 2
}
