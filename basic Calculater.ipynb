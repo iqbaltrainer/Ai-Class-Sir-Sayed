{
 "cells": [
  {
   "cell_type": "code",
   "execution_count": null,
   "metadata": {},
   "outputs": [],
   "source": [
    "friends = [\"iqbal\",\"Rehan\",\"Ahsan\",\"Imran\",\"Shams ul haq\"]"
   ]
  },
  {
   "cell_type": "code",
   "execution_count": null,
   "metadata": {},
   "outputs": [],
   "source": [
    "friends = [\"iqbal\",\"Rehan\",\"Ahsan\",\"Imran\",\"Shams ul haq\"]\n",
    "friends[2] = \"wajahat\"\n",
    "print(friends[1])\n"
   ]
  },
  {
   "cell_type": "code",
   "execution_count": null,
   "metadata": {},
   "outputs": [],
   "source": [
    "num1 = input (\"ENter A number\")\n",
    "num2 = input (\"ENter Another number\")\n",
    "result = float(num1 )+ float( num2 )\n",
    "print(result)"
   ]
  },
  {
   "cell_type": "code",
   "execution_count": 15,
   "metadata": {},
   "outputs": [
    {
     "name": "stdout",
     "output_type": "stream",
     "text": [
      "Enter a Colorred\n",
      "Enter a plurelkhan\n",
      "Enter a celebrateimran khan\n",
      "Rose Are red\n",
      "khanAre  \n",
      "i Love  imran khan\n"
     ]
    }
   ],
   "source": [
    "color = input (\"Enter a Color\")\n",
    "plurel = input (\"Enter a plurel\")\n",
    "celebrate = input (\"Enter a celebrate\")\n",
    "print(\"Rose Are \" + color)\n",
    "print(plurel +\"Are  \" )\n",
    "print(\"i Love  \" + celebrate )"
   ]
  },
  {
   "cell_type": "code",
   "execution_count": 12,
   "metadata": {},
   "outputs": [
    {
     "name": "stdout",
     "output_type": "stream",
     "text": [
      "apples, bananas, tofu, and cats"
     ]
    }
   ],
   "source": [
    "def eggs(listvalue):\n",
    "    for i in range(len(listvalue)):\n",
    "        print(listvalue[i] + ', ', end=\"\")\n",
    "        if listvalue[i] == listvalue[-2]:\n",
    "            print('and ' + listvalue[-1], end=\"\")\n",
    "            break\n",
    " \n",
    " \n",
    "spam = ['apples','bananas','tofu','cats']\n",
    "eggs(spam)"
   ]
  },
  {
   "cell_type": "code",
   "execution_count": 2,
   "metadata": {},
   "outputs": [
    {
     "name": "stdout",
     "output_type": "stream",
     "text": [
      "apples, bananas, tofu, and cats"
     ]
    }
   ],
   "source": [
    "def eggs(iqbal):\n",
    "    for i in range(len(iqbal)):\n",
    "        print(iqbal[i] + ', ', end=\"\")\n",
    "        if iqbal[i] == iqbal[-2]:\n",
    "            print('and ' + iqbal[-1], end=\"\")\n",
    "            break\n",
    " \n",
    " \n",
    "spam = ['apples','bananas','tofu','cats']\n",
    "eggs(spam)"
   ]
  }
 ],
 "metadata": {
  "kernelspec": {
   "display_name": "Python 3",
   "language": "python",
   "name": "python3"
  },
  "language_info": {
   "codemirror_mode": {
    "name": "ipython",
    "version": 3
   },
   "file_extension": ".py",
   "mimetype": "text/x-python",
   "name": "python",
   "nbconvert_exporter": "python",
   "pygments_lexer": "ipython3",
   "version": "3.6.5"
  }
 },
 "nbformat": 4,
 "nbformat_minor": 2
}
