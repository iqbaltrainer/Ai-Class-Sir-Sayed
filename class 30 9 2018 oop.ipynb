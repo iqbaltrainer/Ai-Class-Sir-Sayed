{
 "cells": [
  {
   "cell_type": "code",
   "execution_count": 1,
   "metadata": {},
   "outputs": [
    {
     "ename": "IndentationError",
     "evalue": "unexpected indent (<ipython-input-1-8049c20bb9a0>, line 9)",
     "output_type": "error",
     "traceback": [
      "\u001b[1;36m  File \u001b[1;32m\"<ipython-input-1-8049c20bb9a0>\"\u001b[1;36m, line \u001b[1;32m9\u001b[0m\n\u001b[1;33m    for car in self.available_Cars:\u001b[0m\n\u001b[1;37m    ^\u001b[0m\n\u001b[1;31mIndentationError\u001b[0m\u001b[1;31m:\u001b[0m unexpected indent\n"
     ]
    }
   ],
   "source": [
    "class rsp():\n",
    "    def __init__(self, list_of_Cars):\n",
    "        self.available_Cars = list_of_Cars\n",
    "        \n",
    "    def display_available_Cars(self):\n",
    "        print('________')\n",
    "        print('________')\n",
    "        print('________')\n",
    "         for car in self.available_Cars:\n",
    "                print(cars)\n",
    "    def rent_cars(self,)"
   ]
  },
  {
   "cell_type": "code",
   "execution_count": null,
   "metadata": {},
   "outputs": [],
   "source": [
    "# Double under Score for Makeing Private Variable \n",
    "# "
   ]
  }
 ],
 "metadata": {
  "kernelspec": {
   "display_name": "Python 3",
   "language": "python",
   "name": "python3"
  },
  "language_info": {
   "codemirror_mode": {
    "name": "ipython",
    "version": 3
   },
   "file_extension": ".py",
   "mimetype": "text/x-python",
   "name": "python",
   "nbconvert_exporter": "python",
   "pygments_lexer": "ipython3",
   "version": "3.6.5"
  }
 },
 "nbformat": 4,
 "nbformat_minor": 2
}
