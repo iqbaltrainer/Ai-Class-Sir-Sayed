{
 "cells": [
  {
   "cell_type": "code",
   "execution_count": 46,
   "metadata": {},
   "outputs": [
    {
     "ename": "SyntaxError",
     "evalue": "Missing parentheses in call to 'print'. Did you mean print(\"There was an error writing to\", file_name)? (<ipython-input-46-d1d003129d0a>, line 9)",
     "output_type": "error",
     "traceback": [
      "\u001b[1;36m  File \u001b[1;32m\"<ipython-input-46-d1d003129d0a>\"\u001b[1;36m, line \u001b[1;32m9\u001b[0m\n\u001b[1;33m    print \"There was an error writing to\", file_name\u001b[0m\n\u001b[1;37m                                        ^\u001b[0m\n\u001b[1;31mSyntaxError\u001b[0m\u001b[1;31m:\u001b[0m Missing parentheses in call to 'print'. Did you mean print(\"There was an error writing to\", file_name)?\n"
     ]
    }
   ],
   "source": [
    "#!/usr/bin/python\n",
    "\n",
    "import sys\n",
    "\n",
    "try:\n",
    "   # open file stream\n",
    "   file = open(file_name, \"w\")\n",
    "except IOError:\n",
    "   print \"There was an error writing to\", file_name\n",
    "   sys.exit()\n",
    "print \"Enter '\", file_finish,\n",
    "print \"' When finished\"\n",
    "while file_text != file_finish:\n",
    "   file_text = raw_input(\"Enter text: \")\n",
    "   if file_text == file_finish:\n",
    "      # close the file\n",
    "      file.close\n",
    "      break\n",
    "   file.write(file_text)\n",
    "   file.write(\"\\n\")\n",
    "file.close()\n",
    "file_name = raw_input(\"Enter filename: \")\n",
    "if len(file_name) == 0:\n",
    "   print \"Next time please enter something\"\n",
    "   sys.exit()\n",
    "try:\n",
    "   file = open(file_name, \"r\")\n",
    "except IOError:\n",
    "   print \"There was an error reading file\"\n",
    "   sys.exit()\n",
    "file_text = file.read()\n",
    "file.close()\n",
    "print file_text"
   ]
  },
  {
   "cell_type": "code",
   "execution_count": 19,
   "metadata": {},
   "outputs": [
    {
     "name": "stdout",
     "output_type": "stream",
     "text": [
      "Helloo\n",
      "ur nameyy\n",
      "ur name length2\n"
     ]
    }
   ],
   "source": [
    "print(\"Helloo\")\n",
    "a = input(\"ur name\")\n",
    "print(\"ur name length\" + str(len(a)))"
   ]
  },
  {
   "cell_type": "code",
   "execution_count": 18,
   "metadata": {},
   "outputs": [
    {
     "name": "stdout",
     "output_type": "stream",
     "text": [
      "iqbal\n",
      "123\n"
     ]
    }
   ],
   "source": [
    "name =\"iqbal\"\n",
    "print(name)\n",
    "name =123\n",
    "print(name)\n"
   ]
  },
  {
   "cell_type": "code",
   "execution_count": 21,
   "metadata": {},
   "outputs": [
    {
     "name": "stdout",
     "output_type": "stream",
     "text": [
      "50\n"
     ]
    }
   ],
   "source": [
    "def sum (a,b):\n",
    "    return a*b\n",
    "print(sum(5,10))\n"
   ]
  },
  {
   "cell_type": "code",
   "execution_count": 24,
   "metadata": {},
   "outputs": [
    {
     "name": "stdout",
     "output_type": "stream",
     "text": [
      "40\n"
     ]
    }
   ],
   "source": [
    "def sub (a,b):\n",
    "    return b-a\n",
    "print(sub(10,50))\n"
   ]
  },
  {
   "cell_type": "code",
   "execution_count": 27,
   "metadata": {},
   "outputs": [
    {
     "name": "stdout",
     "output_type": "stream",
     "text": [
      "inter a number54\n",
      "S of number is  2916\n"
     ]
    }
   ],
   "source": [
    "def s (a):\n",
    "    return a*a \n",
    "x = input(\"inter a number\")\n",
    "y = (s(int(x)))\n",
    "print(\"S of number is  \" + str(y))"
   ]
  },
  {
   "cell_type": "code",
   "execution_count": 37,
   "metadata": {},
   "outputs": [
    {
     "name": "stdout",
     "output_type": "stream",
     "text": [
      "inter32\n",
      "inter32\n",
      "inter32\n",
      "sum of three number is 96\n"
     ]
    }
   ],
   "source": [
    "def insub (a,b,c):\n",
    "    return a+b+c\n",
    "\n",
    "x = input(\"inter\")\n",
    "y = input(\"inter\")\n",
    "z = input(\"inter\")\n",
    "l = (insub(int(x),int(y),int(z)))\n",
    "\n",
    "print(\"sum of three number is \"+ str(l))\n"
   ]
  },
  {
   "cell_type": "raw",
   "metadata": {},
   "source": [
    "def string (a,b):\n",
    "    return a +b \n",
    "print(string(\"jashdjahsdj\",\"ajksdhahsd\"))"
   ]
  }
 ],
 "metadata": {
  "kernelspec": {
   "display_name": "Python 3",
   "language": "python",
   "name": "python3"
  },
  "language_info": {
   "codemirror_mode": {
    "name": "ipython",
    "version": 3
   },
   "file_extension": ".py",
   "mimetype": "text/x-python",
   "name": "python",
   "nbconvert_exporter": "python",
   "pygments_lexer": "ipython3",
   "version": "3.6.5"
  }
 },
 "nbformat": 4,
 "nbformat_minor": 2
}
