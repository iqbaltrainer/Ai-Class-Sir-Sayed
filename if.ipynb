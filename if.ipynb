{
 "cells": [
  {
   "cell_type": "code",
   "execution_count": null,
   "metadata": {},
   "outputs": [],
   "source": [
    "i = 1 \n",
    " while i <= 10:\n",
    "        print(i)\n",
    "        i += 1\n",
    "print(\"Done With Loop \")       "
   ]
  },
  {
   "cell_type": "code",
   "execution_count": null,
   "metadata": {},
   "outputs": [],
   "source": [
    "num1 = float( input (\"Enter A first Number :\"))\n",
    "op =  input (\"Enter opearater  :\")\n",
    "num2 = float( input (\"Enter A secound  Number :\"))\n",
    "\n",
    "if op == \"+\":\n",
    "    print(num1 + num2)\n",
    "elif op == \"_ \":\n",
    "     print(num1 - num2)\n",
    "elif op == \"/\":\n",
    "     print(num1 / num2)\n",
    "        \n",
    "elif op == \" * \":\n",
    "     print(num1 * num2)\n",
    "else : \n",
    "    print(\"Invalid Operater \")        \n",
    "        \n"
   ]
  },
  {
   "cell_type": "code",
   "execution_count": 20,
   "metadata": {},
   "outputs": [
    {
     "name": "stdout",
     "output_type": "stream",
     "text": [
      "you are shurt  male\n"
     ]
    }
   ],
   "source": [
    "is_male = True\n",
    "is_tall = False\n",
    "if is_male and is_tall: \n",
    "    print(\"you are male and tall \")\n",
    "elif  is_male and not (is_tall ):\n",
    "    print(\"you are shurt  male\")\n",
    "elif  not (is_male) and is_tall :\n",
    "    print(\"you are not male but are  Tall \")    \n",
    "else: \n",
    "    print(\"you are either not or not  Tall \")\n",
    "     "
   ]
  },
  {
   "cell_type": "code",
   "execution_count": 13,
   "metadata": {},
   "outputs": [
    {
     "name": "stdout",
     "output_type": "stream",
     "text": [
      "300\n"
     ]
    }
   ],
   "source": [
    "def max_num (num1, num2, num3):\n",
    "    if num1 >= num2 and num1 >= num3:\n",
    "        return num1\n",
    "    elif num2 >= num1 and num2 >= num3 :\n",
    "        return num2\n",
    "    else: \n",
    "        return num3\n",
    "print(max_num(300,40,5))"
   ]
  }
 ],
 "metadata": {
  "kernelspec": {
   "display_name": "Python 3",
   "language": "python",
   "name": "python3"
  },
  "language_info": {
   "codemirror_mode": {
    "name": "ipython",
    "version": 3
   },
   "file_extension": ".py",
   "mimetype": "text/x-python",
   "name": "python",
   "nbconvert_exporter": "python",
   "pygments_lexer": "ipython3",
   "version": "3.6.5"
  }
 },
 "nbformat": 4,
 "nbformat_minor": 2
}
